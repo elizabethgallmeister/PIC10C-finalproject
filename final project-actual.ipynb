{
 "cells": [
  {
   "cell_type": "code",
   "execution_count": 6,
   "metadata": {},
   "outputs": [],
   "source": [
    "import numpy as np\n",
    "import pandas as pd"
   ]
  },
  {
   "cell_type": "markdown",
   "metadata": {},
   "source": [
    "**Adding dataset, exploring it, and removing values that aren't consistent throughout**\n",
    "\n",
    "As of May 27, 2020 (because the dataset is updated each day)\n",
    "\n",
    "* 212 locations (countries?) represented, with 20128 individual entries\n",
    "* "
   ]
  },
  {
   "cell_type": "code",
   "execution_count": 10,
   "metadata": {},
   "outputs": [],
   "source": [
    "covid = pd.read_csv(\"owid-covid-data.csv\")"
   ]
  },
  {
   "cell_type": "code",
   "execution_count": 11,
   "metadata": {},
   "outputs": [
    {
     "data": {
      "text/html": [
       "<div>\n",
       "<style scoped>\n",
       "    .dataframe tbody tr th:only-of-type {\n",
       "        vertical-align: middle;\n",
       "    }\n",
       "\n",
       "    .dataframe tbody tr th {\n",
       "        vertical-align: top;\n",
       "    }\n",
       "\n",
       "    .dataframe thead th {\n",
       "        text-align: right;\n",
       "    }\n",
       "</style>\n",
       "<table border=\"1\" class=\"dataframe\">\n",
       "  <thead>\n",
       "    <tr style=\"text-align: right;\">\n",
       "      <th></th>\n",
       "      <th>iso_code</th>\n",
       "      <th>location</th>\n",
       "      <th>date</th>\n",
       "      <th>total_cases</th>\n",
       "      <th>new_cases</th>\n",
       "      <th>total_deaths</th>\n",
       "      <th>new_deaths</th>\n",
       "      <th>total_cases_per_million</th>\n",
       "      <th>new_cases_per_million</th>\n",
       "      <th>total_deaths_per_million</th>\n",
       "      <th>...</th>\n",
       "      <th>aged_65_older</th>\n",
       "      <th>aged_70_older</th>\n",
       "      <th>gdp_per_capita</th>\n",
       "      <th>extreme_poverty</th>\n",
       "      <th>cvd_death_rate</th>\n",
       "      <th>diabetes_prevalence</th>\n",
       "      <th>female_smokers</th>\n",
       "      <th>male_smokers</th>\n",
       "      <th>handwashing_facilities</th>\n",
       "      <th>hospital_beds_per_100k</th>\n",
       "    </tr>\n",
       "  </thead>\n",
       "  <tbody>\n",
       "    <tr>\n",
       "      <th>0</th>\n",
       "      <td>ABW</td>\n",
       "      <td>Aruba</td>\n",
       "      <td>2020-03-13</td>\n",
       "      <td>2</td>\n",
       "      <td>2</td>\n",
       "      <td>0</td>\n",
       "      <td>0</td>\n",
       "      <td>18.733</td>\n",
       "      <td>18.733</td>\n",
       "      <td>0.0</td>\n",
       "      <td>...</td>\n",
       "      <td>13.085</td>\n",
       "      <td>7.452</td>\n",
       "      <td>35973.781</td>\n",
       "      <td>NaN</td>\n",
       "      <td>NaN</td>\n",
       "      <td>11.62</td>\n",
       "      <td>NaN</td>\n",
       "      <td>NaN</td>\n",
       "      <td>NaN</td>\n",
       "      <td>NaN</td>\n",
       "    </tr>\n",
       "    <tr>\n",
       "      <th>1</th>\n",
       "      <td>ABW</td>\n",
       "      <td>Aruba</td>\n",
       "      <td>2020-03-20</td>\n",
       "      <td>4</td>\n",
       "      <td>2</td>\n",
       "      <td>0</td>\n",
       "      <td>0</td>\n",
       "      <td>37.465</td>\n",
       "      <td>18.733</td>\n",
       "      <td>0.0</td>\n",
       "      <td>...</td>\n",
       "      <td>13.085</td>\n",
       "      <td>7.452</td>\n",
       "      <td>35973.781</td>\n",
       "      <td>NaN</td>\n",
       "      <td>NaN</td>\n",
       "      <td>11.62</td>\n",
       "      <td>NaN</td>\n",
       "      <td>NaN</td>\n",
       "      <td>NaN</td>\n",
       "      <td>NaN</td>\n",
       "    </tr>\n",
       "    <tr>\n",
       "      <th>2</th>\n",
       "      <td>ABW</td>\n",
       "      <td>Aruba</td>\n",
       "      <td>2020-03-24</td>\n",
       "      <td>12</td>\n",
       "      <td>8</td>\n",
       "      <td>0</td>\n",
       "      <td>0</td>\n",
       "      <td>112.395</td>\n",
       "      <td>74.930</td>\n",
       "      <td>0.0</td>\n",
       "      <td>...</td>\n",
       "      <td>13.085</td>\n",
       "      <td>7.452</td>\n",
       "      <td>35973.781</td>\n",
       "      <td>NaN</td>\n",
       "      <td>NaN</td>\n",
       "      <td>11.62</td>\n",
       "      <td>NaN</td>\n",
       "      <td>NaN</td>\n",
       "      <td>NaN</td>\n",
       "      <td>NaN</td>\n",
       "    </tr>\n",
       "    <tr>\n",
       "      <th>3</th>\n",
       "      <td>ABW</td>\n",
       "      <td>Aruba</td>\n",
       "      <td>2020-03-25</td>\n",
       "      <td>17</td>\n",
       "      <td>5</td>\n",
       "      <td>0</td>\n",
       "      <td>0</td>\n",
       "      <td>159.227</td>\n",
       "      <td>46.831</td>\n",
       "      <td>0.0</td>\n",
       "      <td>...</td>\n",
       "      <td>13.085</td>\n",
       "      <td>7.452</td>\n",
       "      <td>35973.781</td>\n",
       "      <td>NaN</td>\n",
       "      <td>NaN</td>\n",
       "      <td>11.62</td>\n",
       "      <td>NaN</td>\n",
       "      <td>NaN</td>\n",
       "      <td>NaN</td>\n",
       "      <td>NaN</td>\n",
       "    </tr>\n",
       "    <tr>\n",
       "      <th>4</th>\n",
       "      <td>ABW</td>\n",
       "      <td>Aruba</td>\n",
       "      <td>2020-03-26</td>\n",
       "      <td>19</td>\n",
       "      <td>2</td>\n",
       "      <td>0</td>\n",
       "      <td>0</td>\n",
       "      <td>177.959</td>\n",
       "      <td>18.733</td>\n",
       "      <td>0.0</td>\n",
       "      <td>...</td>\n",
       "      <td>13.085</td>\n",
       "      <td>7.452</td>\n",
       "      <td>35973.781</td>\n",
       "      <td>NaN</td>\n",
       "      <td>NaN</td>\n",
       "      <td>11.62</td>\n",
       "      <td>NaN</td>\n",
       "      <td>NaN</td>\n",
       "      <td>NaN</td>\n",
       "      <td>NaN</td>\n",
       "    </tr>\n",
       "  </tbody>\n",
       "</table>\n",
       "<p>5 rows × 32 columns</p>\n",
       "</div>"
      ],
      "text/plain": [
       "  iso_code location        date  total_cases  new_cases  total_deaths  \\\n",
       "0      ABW    Aruba  2020-03-13            2          2             0   \n",
       "1      ABW    Aruba  2020-03-20            4          2             0   \n",
       "2      ABW    Aruba  2020-03-24           12          8             0   \n",
       "3      ABW    Aruba  2020-03-25           17          5             0   \n",
       "4      ABW    Aruba  2020-03-26           19          2             0   \n",
       "\n",
       "   new_deaths  total_cases_per_million  new_cases_per_million  \\\n",
       "0           0                   18.733                 18.733   \n",
       "1           0                   37.465                 18.733   \n",
       "2           0                  112.395                 74.930   \n",
       "3           0                  159.227                 46.831   \n",
       "4           0                  177.959                 18.733   \n",
       "\n",
       "   total_deaths_per_million  ...  aged_65_older  aged_70_older  \\\n",
       "0                       0.0  ...         13.085          7.452   \n",
       "1                       0.0  ...         13.085          7.452   \n",
       "2                       0.0  ...         13.085          7.452   \n",
       "3                       0.0  ...         13.085          7.452   \n",
       "4                       0.0  ...         13.085          7.452   \n",
       "\n",
       "   gdp_per_capita  extreme_poverty  cvd_death_rate  diabetes_prevalence  \\\n",
       "0       35973.781              NaN             NaN                11.62   \n",
       "1       35973.781              NaN             NaN                11.62   \n",
       "2       35973.781              NaN             NaN                11.62   \n",
       "3       35973.781              NaN             NaN                11.62   \n",
       "4       35973.781              NaN             NaN                11.62   \n",
       "\n",
       "   female_smokers male_smokers  handwashing_facilities  hospital_beds_per_100k  \n",
       "0             NaN          NaN                     NaN                     NaN  \n",
       "1             NaN          NaN                     NaN                     NaN  \n",
       "2             NaN          NaN                     NaN                     NaN  \n",
       "3             NaN          NaN                     NaN                     NaN  \n",
       "4             NaN          NaN                     NaN                     NaN  \n",
       "\n",
       "[5 rows x 32 columns]"
      ]
     },
     "execution_count": 11,
     "metadata": {},
     "output_type": "execute_result"
    }
   ],
   "source": [
    "covid.head()"
   ]
  },
  {
   "cell_type": "code",
   "execution_count": 12,
   "metadata": {},
   "outputs": [
    {
     "data": {
      "text/plain": [
       "(20128, 32)"
      ]
     },
     "execution_count": 12,
     "metadata": {},
     "output_type": "execute_result"
    }
   ],
   "source": [
    "covid.shape # gives #rows, #cols"
   ]
  },
  {
   "cell_type": "code",
   "execution_count": 14,
   "metadata": {},
   "outputs": [
    {
     "data": {
      "text/plain": [
       "Index(['iso_code', 'location', 'date', 'total_cases', 'new_cases',\n",
       "       'total_deaths', 'new_deaths', 'total_cases_per_million',\n",
       "       'new_cases_per_million', 'total_deaths_per_million',\n",
       "       'new_deaths_per_million', 'total_tests', 'new_tests',\n",
       "       'total_tests_per_thousand', 'new_tests_per_thousand',\n",
       "       'new_tests_smoothed', 'new_tests_smoothed_per_thousand', 'tests_units',\n",
       "       'stringency_index', 'population', 'population_density', 'median_age',\n",
       "       'aged_65_older', 'aged_70_older', 'gdp_per_capita', 'extreme_poverty',\n",
       "       'cvd_death_rate', 'diabetes_prevalence', 'female_smokers',\n",
       "       'male_smokers', 'handwashing_facilities', 'hospital_beds_per_100k'],\n",
       "      dtype='object')"
      ]
     },
     "execution_count": 14,
     "metadata": {},
     "output_type": "execute_result"
    }
   ],
   "source": [
    "covid.columns"
   ]
  },
  {
   "cell_type": "code",
   "execution_count": 16,
   "metadata": {},
   "outputs": [
    {
     "data": {
      "text/plain": [
       "array(['Aruba', 'Afghanistan', 'Angola', 'Anguilla', 'Albania', 'Andorra',\n",
       "       'United Arab Emirates', 'Argentina', 'Armenia',\n",
       "       'Antigua and Barbuda', 'Australia', 'Austria', 'Azerbaijan',\n",
       "       'Burundi', 'Belgium', 'Benin', 'Bonaire Sint Eustatius and Saba',\n",
       "       'Burkina Faso', 'Bangladesh', 'Bulgaria', 'Bahrain', 'Bahamas',\n",
       "       'Bosnia and Herzegovina', 'Belarus', 'Belize', 'Bermuda',\n",
       "       'Bolivia', 'Brazil', 'Barbados', 'Brunei', 'Bhutan', 'Botswana',\n",
       "       'Central African Republic', 'Canada', 'Switzerland', 'Chile',\n",
       "       'China', \"Cote d'Ivoire\", 'Cameroon',\n",
       "       'Democratic Republic of Congo', 'Congo', 'Colombia', 'Comoros',\n",
       "       'Cape Verde', 'Costa Rica', 'Cuba', 'Curacao', 'Cayman Islands',\n",
       "       'Cyprus', 'Czech Republic', 'Germany', 'Djibouti', 'Dominica',\n",
       "       'Denmark', 'Dominican Republic', 'Algeria', 'Ecuador', 'Egypt',\n",
       "       'Eritrea', 'Western Sahara', 'Spain', 'Estonia', 'Ethiopia',\n",
       "       'Finland', 'Fiji', 'Falkland Islands', 'France', 'Faeroe Islands',\n",
       "       'Gabon', 'United Kingdom', 'Georgia', 'Guernsey', 'Ghana',\n",
       "       'Gibraltar', 'Guinea', 'Gambia', 'Guinea-Bissau',\n",
       "       'Equatorial Guinea', 'Greece', 'Grenada', 'Greenland', 'Guatemala',\n",
       "       'Guam', 'Guyana', 'Hong Kong', 'Honduras', 'Croatia', 'Haiti',\n",
       "       'Hungary', 'Indonesia', 'Isle of Man', 'India', 'Ireland', 'Iran',\n",
       "       'Iraq', 'Iceland', 'Israel', 'Italy', 'Jamaica', 'Jersey',\n",
       "       'Jordan', 'Japan', 'Kazakhstan', 'Kenya', 'Kyrgyzstan', 'Cambodia',\n",
       "       'Saint Kitts and Nevis', 'South Korea', 'Kuwait', 'Laos',\n",
       "       'Lebanon', 'Liberia', 'Libya', 'Saint Lucia', 'Liechtenstein',\n",
       "       'Sri Lanka', 'Lesotho', 'Lithuania', 'Luxembourg', 'Latvia',\n",
       "       'Morocco', 'Monaco', 'Moldova', 'Madagascar', 'Maldives', 'Mexico',\n",
       "       'Macedonia', 'Mali', 'Malta', 'Myanmar', 'Montenegro', 'Mongolia',\n",
       "       'Northern Mariana Islands', 'Mozambique', 'Mauritania',\n",
       "       'Montserrat', 'Mauritius', 'Malawi', 'Malaysia', 'Namibia',\n",
       "       'New Caledonia', 'Niger', 'Nigeria', 'Nicaragua', 'Netherlands',\n",
       "       'Norway', 'Nepal', 'New Zealand', 'Oman', 'Pakistan', 'Panama',\n",
       "       'Peru', 'Philippines', 'Papua New Guinea', 'Poland', 'Puerto Rico',\n",
       "       'Portugal', 'Paraguay', 'Palestine', 'French Polynesia', 'Qatar',\n",
       "       'Romania', 'Russia', 'Rwanda', 'Saudi Arabia', 'Sudan', 'Senegal',\n",
       "       'Singapore', 'Sierra Leone', 'El Salvador', 'San Marino',\n",
       "       'Somalia', 'Serbia', 'South Sudan', 'Sao Tome and Principe',\n",
       "       'Suriname', 'Slovakia', 'Slovenia', 'Sweden', 'Swaziland',\n",
       "       'Sint Maarten (Dutch part)', 'Seychelles', 'Syria',\n",
       "       'Turks and Caicos Islands', 'Chad', 'Togo', 'Thailand',\n",
       "       'Tajikistan', 'Timor', 'Trinidad and Tobago', 'Tunisia', 'Turkey',\n",
       "       'Taiwan', 'Tanzania', 'Uganda', 'Ukraine', 'Uruguay',\n",
       "       'United States', 'Uzbekistan', 'Vatican',\n",
       "       'Saint Vincent and the Grenadines', 'Venezuela',\n",
       "       'British Virgin Islands', 'United States Virgin Islands',\n",
       "       'Vietnam', 'Kosovo', 'Yemen', 'South Africa', 'Zambia', 'Zimbabwe',\n",
       "       'World', 'International'], dtype=object)"
      ]
     },
     "execution_count": 16,
     "metadata": {},
     "output_type": "execute_result"
    }
   ],
   "source": [
    "covid['location'].unique()"
   ]
  },
  {
   "cell_type": "code",
   "execution_count": 17,
   "metadata": {},
   "outputs": [
    {
     "data": {
      "text/plain": [
       "212"
      ]
     },
     "execution_count": 17,
     "metadata": {},
     "output_type": "execute_result"
    }
   ],
   "source": [
    "len(covid['location'].unique())"
   ]
  },
  {
   "cell_type": "code",
   "execution_count": 21,
   "metadata": {},
   "outputs": [
    {
     "data": {
      "text/plain": [
       "Italy          149\n",
       "Iran           149\n",
       "Russia         149\n",
       "Iceland        149\n",
       "Nepal          149\n",
       "Mexico         149\n",
       "South Korea    149\n",
       "Australia      149\n",
       "Vietnam        149\n",
       "World          149\n",
       "Brazil         149\n",
       "Switzerland    149\n",
       "Malaysia       149\n",
       "Israel         149\n",
       "Croatia        149\n",
       "Canada         149\n",
       "France         149\n",
       "Netherlands    149\n",
       "Germany        149\n",
       "Estonia        149\n",
       "Name: location, dtype: int64"
      ]
     },
     "execution_count": 21,
     "metadata": {},
     "output_type": "execute_result"
    }
   ],
   "source": [
    "covid['location'].value_counts()[:20]"
   ]
  },
  {
   "cell_type": "code",
   "execution_count": 44,
   "metadata": {},
   "outputs": [
    {
     "data": {
      "text/plain": [
       "(149, 3)"
      ]
     },
     "execution_count": 44,
     "metadata": {},
     "output_type": "execute_result"
    }
   ],
   "source": [
    "america = covid.loc[covid['location']=='United States', ['date', 'total_cases', 'total_deaths']]\n",
    "america.shape"
   ]
  },
  {
   "cell_type": "code",
   "execution_count": 48,
   "metadata": {},
   "outputs": [
    {
     "data": {
      "text/html": [
       "<div>\n",
       "<style scoped>\n",
       "    .dataframe tbody tr th:only-of-type {\n",
       "        vertical-align: middle;\n",
       "    }\n",
       "\n",
       "    .dataframe tbody tr th {\n",
       "        vertical-align: top;\n",
       "    }\n",
       "\n",
       "    .dataframe thead th {\n",
       "        text-align: right;\n",
       "    }\n",
       "</style>\n",
       "<table border=\"1\" class=\"dataframe\">\n",
       "  <thead>\n",
       "    <tr style=\"text-align: right;\">\n",
       "      <th></th>\n",
       "      <th>date</th>\n",
       "      <th>total_cases</th>\n",
       "      <th>total_deaths</th>\n",
       "    </tr>\n",
       "  </thead>\n",
       "  <tbody>\n",
       "    <tr>\n",
       "      <th>18835</th>\n",
       "      <td>2019-12-31</td>\n",
       "      <td>0</td>\n",
       "      <td>0</td>\n",
       "    </tr>\n",
       "    <tr>\n",
       "      <th>18836</th>\n",
       "      <td>2020-01-01</td>\n",
       "      <td>0</td>\n",
       "      <td>0</td>\n",
       "    </tr>\n",
       "    <tr>\n",
       "      <th>18837</th>\n",
       "      <td>2020-01-02</td>\n",
       "      <td>0</td>\n",
       "      <td>0</td>\n",
       "    </tr>\n",
       "    <tr>\n",
       "      <th>18838</th>\n",
       "      <td>2020-01-03</td>\n",
       "      <td>0</td>\n",
       "      <td>0</td>\n",
       "    </tr>\n",
       "    <tr>\n",
       "      <th>18839</th>\n",
       "      <td>2020-01-04</td>\n",
       "      <td>0</td>\n",
       "      <td>0</td>\n",
       "    </tr>\n",
       "  </tbody>\n",
       "</table>\n",
       "</div>"
      ],
      "text/plain": [
       "             date  total_cases  total_deaths\n",
       "18835  2019-12-31            0             0\n",
       "18836  2020-01-01            0             0\n",
       "18837  2020-01-02            0             0\n",
       "18838  2020-01-03            0             0\n",
       "18839  2020-01-04            0             0"
      ]
     },
     "execution_count": 48,
     "metadata": {},
     "output_type": "execute_result"
    }
   ],
   "source": [
    "america.head()"
   ]
  },
  {
   "cell_type": "code",
   "execution_count": 45,
   "metadata": {},
   "outputs": [
    {
     "data": {
      "text/plain": [
       "(-1681.212, 168121.2]     92\n",
       "(1513090.8, 1681212.0]     8\n",
       "(1344969.6, 1513090.8]     8\n",
       "(1176848.4, 1344969.6]     7\n",
       "(1008727.2, 1176848.4]     6\n",
       "(840606.0, 1008727.2]      6\n",
       "(504363.6, 672484.8]       6\n",
       "(336242.4, 504363.6]       6\n",
       "(672484.8, 840606.0]       5\n",
       "(168121.2, 336242.4]       5\n",
       "Name: total_cases, dtype: int64"
      ]
     },
     "execution_count": 45,
     "metadata": {},
     "output_type": "execute_result"
    }
   ],
   "source": [
    "caserange = pd.cut(america['total_cases'],10) # divides rating col into 10 equal ranges\n",
    "pd.value_counts(caserange)"
   ]
  },
  {
   "cell_type": "code",
   "execution_count": 46,
   "metadata": {},
   "outputs": [],
   "source": [
    "import seaborn as sns"
   ]
  },
  {
   "cell_type": "code",
   "execution_count": 47,
   "metadata": {},
   "outputs": [
    {
     "data": {
      "image/png": "[encoded data removed]",
      "text/plain": [
       "<Figure size 432x288 with 1 Axes>"
      ]
     },
     "metadata": {
      "needs_background": "light"
     },
     "output_type": "display_data"
    }
   ],
   "source": [
    "ax = sns.barplot(x = \"date\", y=\"total_cases\", data=america)"
   ]
  },
  {
   "cell_type": "code",
   "execution_count": 64,
   "metadata": {},
   "outputs": [
    {
     "data": {
      "image/png": "[encoded data removed]",
      "text/plain": [
       "<Figure size 432x288 with 1 Axes>"
      ]
     },
     "metadata": {
      "needs_background": "light"
     },
     "output_type": "display_data"
    }
   ],
   "source": [
    "temp = america[america['total_cases'] > 0]\n",
    "ax = sns.barplot(x = \"date\", y=\"total_cases\", data=temp)\n",
    "ax.set_xticklabels(america.date,rotation=60)\n",
    "for i, t in enumerate(ax.get_xticklabels()):\n",
    "    if (i % 10) != 0:\n",
    "        t.set_visible(False)"
   ]
  },
  {
   "cell_type": "code",
   "execution_count": 65,
   "metadata": {},
   "outputs": [
    {
     "data": {
      "image/png": "[encoded data removed]",
      "text/plain": [
       "<Figure size 432x288 with 1 Axes>"
      ]
     },
     "metadata": {
      "needs_background": "light"
     },
     "output_type": "display_data"
    }
   ],
   "source": [
    "ax = sns.barplot(x = \"date\", y=\"total_deaths\", data=temp)\n",
    "ax.set_xticklabels(america.date,rotation=60)\n",
    "for i, t in enumerate(ax.get_xticklabels()):\n",
    "    if (i % 10) != 0:\n",
    "        t.set_visible(False)"
   ]
  },
  {
   "cell_type": "code",
   "execution_count": 66,
   "metadata": {},
   "outputs": [],
   "source": [
    "# how to get deaths and total cases on the same plot?"
   ]
  },
  {
   "cell_type": "code",
   "execution_count": null,
   "metadata": {},
   "outputs": [],
   "source": []
  }
 ],
 "metadata": {
  "kernelspec": {
   "display_name": "Python 3",
   "language": "python",
   "name": "python3"
  },
  "language_info": {
   "codemirror_mode": {
    "name": "ipython",
    "version": 3
   },
   "file_extension": ".py",
   "mimetype": "text/x-python",
   "name": "python",
   "nbconvert_exporter": "python",
   "pygments_lexer": "ipython3",
   "version": "3.7.6"
  }
 },
 "nbformat": 4,
 "nbformat_minor": 4
}
